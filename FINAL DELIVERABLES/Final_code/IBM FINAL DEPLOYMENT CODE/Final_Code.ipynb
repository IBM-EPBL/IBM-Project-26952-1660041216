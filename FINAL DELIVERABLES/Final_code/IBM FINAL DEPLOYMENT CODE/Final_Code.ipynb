{
 "cells": [
  {
   "cell_type": "markdown",
   "id": "514bb1ea",
   "metadata": {},
   "source": [
    "# REAL TIME COMMUNICATION SYSTEM POWERED BY AI FOR SPECIALLY ABLED "
   ]
  },
  {
   "cell_type": "markdown",
   "id": "a5e7f0d1",
   "metadata": {},
   "source": [
    "# IBM WATSON STUDIO DEPLOYMENT CODE"
   ]
  },
  {
   "cell_type": "markdown",
   "id": "f11ce649",
   "metadata": {},
   "source": [
    "# 1.INSTALLING THE KERAS ,INSTALLING THE TENSORFLOW"
   ]
  },
  {
   "cell_type": "markdown",
   "id": "393eebf8",
   "metadata": {},
   "source": [
    "###### !pip install Keras==2.2.4 !pip install tensorflow==2.7"
   ]
  },
  {
   "cell_type": "markdown",
   "id": "003836b3",
   "metadata": {},
   "source": [
    "# 2.IMPORTING LIBRARIES TO BUILD MODEL."
   ]
  },
  {
   "cell_type": "code",
   "execution_count": null,
   "id": "f922b7b5",
   "metadata": {},
   "outputs": [],
   "source": [
    "#library to train the model\n",
    "import keras\n",
    "import tensorflow\n",
    "\n",
    "\n",
    "from tensorflow.keras.models import Sequential\n",
    "from tensorflow.keras.layers import Dense,Convolution2D,MaxPooling2D, Flatten"
   ]
  },
  {
   "cell_type": "markdown",
   "id": "d1def87c",
   "metadata": {},
   "source": [
    "# 3.IMPORTING LIBRARIES FOR IMAGE AUGMENTATION."
   ]
  },
  {
   "cell_type": "code",
   "execution_count": null,
   "id": "618958ee",
   "metadata": {},
   "outputs": [],
   "source": [
    "#image augmentation\n",
    "from tensorflow.keras.preprocessing.image import ImageDataGenerator\n",
    "train_datagen=ImageDataGenerator(rescale=1./255,zoom_range=0.2,shear_range=0.2,horizontal_flip=True,vertical_flip=False)\n",
    "test_datagen=ImageDataGenerator(rescale=1./255)"
   ]
  },
  {
   "cell_type": "markdown",
   "id": "2c98e630",
   "metadata": {},
   "source": [
    "# 4.ADDING STREAMING_BODY_OBJECT FOR DATASET.ZIP"
   ]
  },
  {
   "cell_type": "code",
   "execution_count": null,
   "id": "cfb2fb96",
   "metadata": {},
   "outputs": [],
   "source": [
    "import os, types\n",
    "import pandas as pd\n",
    "from botocore.client import Config\n",
    "import ibm_boto3\n",
    "\n",
    "def __iter__(self): return 0\n",
    "\n",
    "# @hidden_cell\n",
    "# The following code accesses a file in your IBM Cloud Object Storage. It includes your credentials.\n",
    "# You might want to remove those credentials before you share the notebook.\n",
    "cos_client = ibm_boto3.client(service_name='s3',\n",
    "    ibm_api_key_id='IMzFuAWRpYPnwh2XocJvGqTbHiPAMNnnEcIBBt8bQRGq',\n",
    "    ibm_auth_endpoint=\"https://iam.cloud.ibm.com/oidc/token\",\n",
    "    config=Config(signature_version='oauth'),\n",
    "    endpoint_url='https://s3.private.us.cloud-object-storage.appdomain.cloud')\n",
    "\n",
    "bucket = 'realtimecommunication-donotdelete-pr-fx3wrumk8qzbvv'\n",
    "object_key = 'Dataset.zip'\n",
    "\n",
    "streaming_body_7 = cos_client.get_object(Bucket=bucket, Key=object_key)['Body']\n",
    "\n",
    "# Your data file was loaded into a botocore.response.StreamingBody object.\n",
    "# Please read the documentation of ibm_boto3 and pandas to learn more about the possibilities to load the data.\n",
    "# ibm_boto3 documentation: https://ibm.github.io/ibm-cos-sdk-python/\n",
    "# pandas documentation: http://pandas.pydata.org/"
   ]
  },
  {
   "cell_type": "code",
   "execution_count": 1,
   "id": "e8d67eb3",
   "metadata": {},
   "outputs": [
    {
     "data": {
      "text/plain": [
       "'C:\\\\Users\\\\nivet\\\\Desktop'"
      ]
     },
     "execution_count": 1,
     "metadata": {},
     "output_type": "execute_result"
    }
   ],
   "source": [
    "pwd"
   ]
  },
  {
   "cell_type": "markdown",
   "id": "d22e788a",
   "metadata": {},
   "source": [
    "# 5.UNZIPPING THE DATASET"
   ]
  },
  {
   "cell_type": "code",
   "execution_count": 2,
   "id": "6c5364ed",
   "metadata": {},
   "outputs": [
    {
     "ename": "NameError",
     "evalue": "name 'streaming_body_6' is not defined",
     "output_type": "error",
     "traceback": [
      "\u001b[1;31m---------------------------------------------------------------------------\u001b[0m",
      "\u001b[1;31mNameError\u001b[0m                                 Traceback (most recent call last)",
      "\u001b[1;32m~\\AppData\\Local\\Temp\\ipykernel_9084\\990811167.py\u001b[0m in \u001b[0;36m<module>\u001b[1;34m\u001b[0m\n\u001b[0;32m      1\u001b[0m \u001b[1;32mfrom\u001b[0m \u001b[0mio\u001b[0m \u001b[1;32mimport\u001b[0m \u001b[0mBytesIO\u001b[0m\u001b[1;33m\u001b[0m\u001b[1;33m\u001b[0m\u001b[0m\n\u001b[0;32m      2\u001b[0m \u001b[1;32mimport\u001b[0m \u001b[0mzipfile\u001b[0m\u001b[1;33m\u001b[0m\u001b[1;33m\u001b[0m\u001b[0m\n\u001b[1;32m----> 3\u001b[1;33m \u001b[0munzip\u001b[0m\u001b[1;33m=\u001b[0m\u001b[0mzipfile\u001b[0m\u001b[1;33m.\u001b[0m\u001b[0mZipFile\u001b[0m\u001b[1;33m(\u001b[0m\u001b[0mBytesIO\u001b[0m\u001b[1;33m(\u001b[0m\u001b[0mstreaming_body_6\u001b[0m\u001b[1;33m.\u001b[0m\u001b[0mread\u001b[0m\u001b[1;33m(\u001b[0m\u001b[1;33m)\u001b[0m\u001b[1;33m)\u001b[0m\u001b[1;33m,\u001b[0m\u001b[1;34m'r'\u001b[0m\u001b[1;33m)\u001b[0m\u001b[1;33m\u001b[0m\u001b[1;33m\u001b[0m\u001b[0m\n\u001b[0m\u001b[0;32m      4\u001b[0m \u001b[0mfile_paths\u001b[0m\u001b[1;33m=\u001b[0m\u001b[0munzip\u001b[0m\u001b[1;33m.\u001b[0m\u001b[0mnamelist\u001b[0m\u001b[1;33m(\u001b[0m\u001b[1;33m)\u001b[0m\u001b[1;33m\u001b[0m\u001b[1;33m\u001b[0m\u001b[0m\n\u001b[0;32m      5\u001b[0m \u001b[1;32mfor\u001b[0m \u001b[0mpath\u001b[0m \u001b[1;32min\u001b[0m \u001b[0mfile_paths\u001b[0m\u001b[1;33m:\u001b[0m\u001b[1;33m\u001b[0m\u001b[1;33m\u001b[0m\u001b[0m\n",
      "\u001b[1;31mNameError\u001b[0m: name 'streaming_body_6' is not defined"
     ]
    }
   ],
   "source": [
    "from io import BytesIO\n",
    "import zipfile\n",
    "unzip=zipfile.ZipFile(BytesIO(streaming_body_6.read()),'r')\n",
    "file_paths=unzip.namelist()\n",
    "for path in file_paths:\n",
    "    unzip.extract(path)"
   ]
  },
  {
   "cell_type": "code",
   "execution_count": 3,
   "id": "17e0eb04",
   "metadata": {},
   "outputs": [
    {
     "name": "stdout",
     "output_type": "stream",
     "text": [
      " Volume in drive C is Windows 10\n",
      " Volume Serial Number is 98E7-6D07\n",
      "\n",
      " Directory of C:\\Users\\nivet\\Desktop\n",
      "\n",
      "19-11-2022  12.01 AM    <DIR>          .\n",
      "19-11-2022  12.01 AM    <DIR>          ..\n",
      "18-11-2022  11.55 PM    <DIR>          .ipynb_checkpoints\n",
      "13-10-2022  02.06 PM             2,216 4045 - Chrome.lnk\n",
      "18-11-2022  11.29 AM           283,727 Add_The _Flatten_Layer.ipynb\n",
      "18-11-2022  12.58 PM           283,727 Add_The _Flatten_Layer-Copy1.ipynb\n",
      "18-11-2022  10.39 AM           283,431 Add_The_Pooling_Layer.ipynb\n",
      "16-11-2022  08.28 PM    <DIR>          anaconda\n",
      "18-11-2022  01.30 PM           282,118 Apply_Image Data Generator_Functionality_To_Train_And_Test_Set.ipynb\n",
      "18-11-2022  11.50 PM             2,037 Final_Spyder_Deploy_Code.ipynb\n",
      "18-11-2022  12.03 PM           287,241 Fit_And_Save_The_Model.ipynb\n",
      "18-11-2022  02.34 PM           289,254 Import_The_Packages_And_Load_The_Saved_Modeel.ipynb\n",
      "18-11-2022  02.14 PM           289,408 Import_The_Packages_And_Load_The_Saved_Modeel-Copy1.ipynb\n",
      "18-11-2022  10.05 AM           282,628 IntializeThe_model.ipynb\n",
      "18-11-2022  05.22 PM           289,757 Model Building.ipynb\n",
      "18-11-2022  11.44 PM           283,704 Model_building.ipynb\n",
      "18-11-2022  11.29 PM           289,752 Model_Building_And__Test_The_Data.ipynb\n",
      "22-09-2022  04.12 PM             2,433 Rocket.Chat.lnk\n",
      "18-11-2022  05.48 PM             4,811 Test The Model.ipynb\n",
      "17-11-2022  10.07 PM             9,691 Untitled.ipynb\n",
      "18-11-2022  04.13 PM             3,939 Untitled1.ipynb\n",
      "19-11-2022  12.01 AM             4,408 Untitled2.ipynb\n",
      "17-11-2022  08.59 PM             3,377 Untitled3.ipynb\n",
      "              19 File(s)      3,177,659 bytes\n",
      "               4 Dir(s)  51,630,686,208 bytes free\n"
     ]
    }
   ],
   "source": [
    "ls"
   ]
  },
  {
   "cell_type": "code",
   "execution_count": 4,
   "id": "73d6796f",
   "metadata": {},
   "outputs": [
    {
     "data": {
      "text/plain": [
       "'C:\\\\Users\\\\nivet\\\\Desktop'"
      ]
     },
     "execution_count": 4,
     "metadata": {},
     "output_type": "execute_result"
    }
   ],
   "source": [
    "pwd"
   ]
  },
  {
   "cell_type": "code",
   "execution_count": null,
   "id": "e7bff2cd",
   "metadata": {},
   "outputs": [],
   "source": [
    "#checking that the dataset is there are not\n",
    "import osC:\\\\Us\n",
    "filenamer = os.listdir('C:\\\\USers\\\\nivet\\\\Desktop\\Dataset\\training_set')"
   ]
  },
  {
   "cell_type": "markdown",
   "id": "8ca38458",
   "metadata": {},
   "source": [
    "# 6.TRAINING AND TESTING IMAGES UNDER CLASSES"
   ]
  },
  {
   "cell_type": "code",
   "execution_count": 6,
   "id": "b3c1679f",
   "metadata": {},
   "outputs": [
    {
     "ename": "NameError",
     "evalue": "name 'train_datagen' is not defined",
     "output_type": "error",
     "traceback": [
      "\u001b[1;31m---------------------------------------------------------------------------\u001b[0m",
      "\u001b[1;31mNameError\u001b[0m                                 Traceback (most recent call last)",
      "\u001b[1;32m~\\AppData\\Local\\Temp\\ipykernel_9084\\2292498113.py\u001b[0m in \u001b[0;36m<module>\u001b[1;34m\u001b[0m\n\u001b[1;32m----> 1\u001b[1;33m \u001b[0mx_train\u001b[0m\u001b[1;33m=\u001b[0m\u001b[0mtrain_datagen\u001b[0m\u001b[1;33m.\u001b[0m\u001b[0mflow_from_directory\u001b[0m\u001b[1;33m(\u001b[0m\u001b[1;34m\"C:\\\\USers\\\\nivet\\\\Desktop\\Dataset\\training_set\"\u001b[0m\u001b[1;33m,\u001b[0m\u001b[0mtarget_size\u001b[0m\u001b[1;33m=\u001b[0m\u001b[1;33m(\u001b[0m\u001b[1;36m64\u001b[0m\u001b[1;33m,\u001b[0m\u001b[1;36m64\u001b[0m\u001b[1;33m)\u001b[0m\u001b[1;33m,\u001b[0m\u001b[0mclass_mode\u001b[0m\u001b[1;33m=\u001b[0m\u001b[1;34m\"categorical\"\u001b[0m\u001b[1;33m,\u001b[0m\u001b[0mbatch_size\u001b[0m\u001b[1;33m=\u001b[0m\u001b[1;36m25\u001b[0m\u001b[1;33m)\u001b[0m\u001b[1;33m\u001b[0m\u001b[1;33m\u001b[0m\u001b[0m\n\u001b[0m",
      "\u001b[1;31mNameError\u001b[0m: name 'train_datagen' is not defined"
     ]
    }
   ],
   "source": [
    "x_train=train_datagen.flow_from_directory(\"C:\\\\USers\\\\nivet\\\\Desktop\\Dataset\\training_set\",target_size=(64,64),class_mode=\"categorical\",batch_size=25)"
   ]
  },
  {
   "cell_type": "code",
   "execution_count": 7,
   "id": "e695db67",
   "metadata": {},
   "outputs": [
    {
     "ename": "NameError",
     "evalue": "name 'test_datagen' is not defined",
     "output_type": "error",
     "traceback": [
      "\u001b[1;31m---------------------------------------------------------------------------\u001b[0m",
      "\u001b[1;31mNameError\u001b[0m                                 Traceback (most recent call last)",
      "\u001b[1;32m~\\AppData\\Local\\Temp\\ipykernel_9084\\1297326587.py\u001b[0m in \u001b[0;36m<module>\u001b[1;34m\u001b[0m\n\u001b[1;32m----> 1\u001b[1;33m x_test=test_datagen.flow_from_directory(\"C:\\\\USers\\\\nivet\\\\Desktop\\Dataset\\training_set\",target_size=(64,64),\n\u001b[0m\u001b[0;32m      2\u001b[0m class_mode='categorical' , batch_size=25)\n",
      "\u001b[1;31mNameError\u001b[0m: name 'test_datagen' is not defined"
     ]
    }
   ],
   "source": [
    "x_test=test_datagen.flow_from_directory(\"C:\\\\USers\\\\nivet\\\\Desktop\\Dataset\\training_set\",target_size=(64,64),\n",
    "class_mode='categorical' , batch_size=25)"
   ]
  },
  {
   "cell_type": "markdown",
   "id": "1bdebee2",
   "metadata": {},
   "source": [
    "# 7.TOTAL CLASSES UNDER TRAINING AND TESTING."
   ]
  },
  {
   "cell_type": "code",
   "execution_count": null,
   "id": "2e8c310d",
   "metadata": {},
   "outputs": [],
   "source": [
    "x_train.class_indices"
   ]
  },
  {
   "cell_type": "raw",
   "id": "6111e399",
   "metadata": {},
   "source": [
    "{'A': 0, 'B': 1, 'C': 2, 'D': 3, 'E': 4, 'F': 5, 'G': 6, 'H': 7, 'I': 8}"
   ]
  },
  {
   "cell_type": "code",
   "execution_count": null,
   "id": "e5a00131",
   "metadata": {},
   "outputs": [],
   "source": [
    "x_test.class_indices"
   ]
  },
  {
   "cell_type": "raw",
   "id": "286d8c82",
   "metadata": {},
   "source": [
    "{'A': 0, 'B': 1, 'C': 2, 'D': 3, 'E': 4, 'F': 5, 'G': 6, 'H': 7, 'I': 8}"
   ]
  },
  {
   "cell_type": "code",
   "execution_count": null,
   "id": "a8ec62b4",
   "metadata": {},
   "outputs": [],
   "source": [
    "train_datagen=ImageDataGenerator(rescale=1./255,zoom_range=0.2,horizontal_flip=True,vertical_flip=False)"
   ]
  },
  {
   "cell_type": "code",
   "execution_count": null,
   "id": "7b2affe0",
   "metadata": {},
   "outputs": [],
   "source": [
    "test_datagen=ImageDataGenerator(rescale=1./255)"
   ]
  },
  {
   "cell_type": "markdown",
   "id": "bf93328d",
   "metadata": {},
   "source": [
    "# 8.MODEL BUILDING USING CNN"
   ]
  },
  {
   "cell_type": "code",
   "execution_count": null,
   "id": "cd9d7d8b",
   "metadata": {},
   "outputs": [],
   "source": [
    "model=Sequential()"
   ]
  },
  {
   "cell_type": "code",
   "execution_count": null,
   "id": "fe78b0fe",
   "metadata": {},
   "outputs": [],
   "source": [
    "model.add(Convolution2D(32,(3,3),input_shape=(64,64,3),activation='relu'))"
   ]
  },
  {
   "cell_type": "code",
   "execution_count": null,
   "id": "8ecfad06",
   "metadata": {},
   "outputs": [],
   "source": [
    "model.add(MaxPooling2D(pool_size=(2,2)))"
   ]
  },
  {
   "cell_type": "code",
   "execution_count": null,
   "id": "1379bfd8",
   "metadata": {},
   "outputs": [],
   "source": [
    "model.add(MaxPooling2D(pool_size=(2,2)))"
   ]
  },
  {
   "cell_type": "code",
   "execution_count": null,
   "id": "47314c70",
   "metadata": {},
   "outputs": [],
   "source": [
    "model.add(Flatten())"
   ]
  },
  {
   "cell_type": "code",
   "execution_count": null,
   "id": "154d497f",
   "metadata": {},
   "outputs": [],
   "source": [
    "model.summary()"
   ]
  },
  {
   "cell_type": "markdown",
   "id": "7744d087",
   "metadata": {},
   "source": [
    "###### Model: \"sequential\"\n",
    "_________________________________________________________________\n",
    " Layer (type)                Output Shape              Param #   \n",
    "=================================================================\n",
    " conv2d (Conv2D)             (None, 62, 62, 32)        896       \n",
    "                                                                 \n",
    " max_pooling2d (MaxPooling2D  (None, 31, 31, 32)       0         \n",
    " )                                                               \n",
    "                                                                 \n",
    " flatten (Flatten)           (None, 30752)             0         \n",
    "                                                                 \n",
    "=================================================================\n",
    "Total params: 896\n",
    "Trainable params: 896\n",
    "Non-trainable params: 0\n",
    "_________________________________________________________________"
   ]
  },
  {
   "cell_type": "markdown",
   "id": "5faeb507",
   "metadata": {},
   "source": [
    "# 9.ADDING LAYERS FOR MODEL TRAINING.\n",
    "HIDDEN LAYERS"
   ]
  },
  {
   "cell_type": "code",
   "execution_count": null,
   "id": "ed98dab5",
   "metadata": {},
   "outputs": [],
   "source": [
    "model.add(Dense(units = 300, activation='relu'))\n",
    "#model.add(Dense(unit = 150,init = \"uniform\" activation='softmax'))"
   ]
  },
  {
   "cell_type": "markdown",
   "id": "c93aadf6",
   "metadata": {},
   "source": [
    "# OUTPUT LAYERS"
   ]
  },
  {
   "cell_type": "code",
   "execution_count": null,
   "id": "1a6b46e1",
   "metadata": {},
   "outputs": [],
   "source": [
    "model.add(Dense(units = 9, activation='softmax'))"
   ]
  },
  {
   "cell_type": "markdown",
   "id": "f53a1d38",
   "metadata": {},
   "source": [
    "# 10.OPTIMIZING THE MODEL"
   ]
  },
  {
   "cell_type": "code",
   "execution_count": null,
   "id": "d8584c4b",
   "metadata": {},
   "outputs": [],
   "source": [
    "model.compile(loss='categorical_crossentropy',optimizer='adam',metrics=['accuracy'])"
   ]
  },
  {
   "cell_type": "code",
   "execution_count": null,
   "id": "746f158e",
   "metadata": {},
   "outputs": [],
   "source": [
    "len(x_train)"
   ]
  },
  {
   "cell_type": "markdown",
   "id": "2921a515",
   "metadata": {},
   "source": [
    "630"
   ]
  },
  {
   "cell_type": "code",
   "execution_count": null,
   "id": "71e3d0e8",
   "metadata": {},
   "outputs": [],
   "source": [
    "len(x_test)"
   ]
  },
  {
   "cell_type": "raw",
   "id": "3325b993",
   "metadata": {},
   "source": [
    "90"
   ]
  },
  {
   "cell_type": "markdown",
   "id": "4e0cafbf",
   "metadata": {},
   "source": [
    "# 11.FITTING THE MODEL"
   ]
  },
  {
   "cell_type": "code",
   "execution_count": null,
   "id": "f9680f9d",
   "metadata": {},
   "outputs": [],
   "source": [
    "### model.fit_generator(x_train,steps_per_epoch=len(x_train),validation_data=x_test,validation_steps=len(x_test),epochs=10)\n",
    "# Fitting the Model Generator\n",
    "model.fit_generator(x_train,steps_per_epoch=630,epochs=10,validation_data=x_test,validation_steps=90)\n",
    "#model.fit(x_train, epochs=100, verbose=1)"
   ]
  },
  {
   "cell_type": "markdown",
   "id": "67fac767",
   "metadata": {},
   "source": [
    "###### /tmp/wsuser/ipykernel_2521/1177640488.py:3: UserWarning: `Model.fit_generator` is deprecated and will be removed in a future version. Please use `Model.fit`, which supports generators.\n",
    "  model.fit_generator(x_train,steps_per_epoch=630,epochs=10,validation_data=x_test,validation_steps=90)\n",
    "Epoch 1/10\n",
    "630/630 [==============================] - 70s 111ms/step - loss: 0.2427 - accuracy: 0.9357 - val_loss: 0.2130 - val_accuracy: 0.9756\n",
    "Epoch 2/10\n",
    "630/630 [==============================] - 70s 112ms/step - loss: 0.0314 - accuracy: 0.9905 - val_loss: 0.2702 - val_accuracy: 0.9778\n",
    "Epoch 3/10\n",
    "630/630 [==============================] - 71s 113ms/step - loss: 0.0158 - accuracy: 0.9952 - val_loss: 0.3915 - val_accuracy: 0.9596\n",
    "Epoch 4/10\n",
    "630/630 [==============================] - 71s 112ms/step - loss: 0.0094 - accuracy: 0.9969 - val_loss: 0.3320 - val_accuracy: 0.9747\n",
    "Epoch 5/10\n",
    "630/630 [==============================] - 70s 111ms/step - loss: 0.0115 - accuracy: 0.9957 - val_loss: 0.3552 - val_accuracy: 0.9760\n",
    "Epoch 6/10\n",
    "630/630 [==============================] - 71s 112ms/step - loss: 0.0066 - accuracy: 0.9978 - val_loss: 0.3470 - val_accuracy: 0.9756\n",
    "Epoch 7/10\n",
    "630/630 [==============================] - 69s 110ms/step - loss: 0.0094 - accuracy: 0.9973 - val_loss: 0.3686 - val_accuracy: 0.9711\n",
    "Epoch 8/10\n",
    "630/630 [==============================] - 69s 110ms/step - loss: 0.0127 - accuracy: 0.9960 - val_loss: 0.7356 - val_accuracy: 0.9751\n",
    "Epoch 9/10\n",
    "630/630 [==============================] - 69s 109ms/step - loss: 0.0048 - accuracy: 0.9987 - val_loss: 0.3163 - val_accuracy: 0.9773\n",
    "Epoch 10/10\n",
    "630/630 [==============================] - 69s 109ms/step - loss: 0.0047 - accuracy: 0.9988 - val_loss: 0.4326 - val_accuracy: 0.9764\n"
   ]
  },
  {
   "cell_type": "markdown",
   "id": "9bbc43d0",
   "metadata": {},
   "source": [
    "# 12.SAVING THE MODEL"
   ]
  },
  {
   "cell_type": "code",
   "execution_count": 11,
   "id": "510f563a",
   "metadata": {},
   "outputs": [
    {
     "name": "stdout",
     "output_type": "stream",
     "text": [
      " Volume in drive C is Windows 10\n",
      " Volume Serial Number is 98E7-6D07\n",
      "\n",
      " Directory of C:\\Users\\nivet\\Desktop\n",
      "\n",
      "19-11-2022  12.23 AM    <DIR>          .\n",
      "19-11-2022  12.23 AM    <DIR>          ..\n",
      "18-11-2022  11.55 PM    <DIR>          .ipynb_checkpoints\n",
      "13-10-2022  02.06 PM             2,216 4045 - Chrome.lnk\n",
      "18-11-2022  11.29 AM           283,727 Add_The _Flatten_Layer.ipynb\n",
      "18-11-2022  12.58 PM           283,727 Add_The _Flatten_Layer-Copy1.ipynb\n",
      "18-11-2022  10.39 AM           283,431 Add_The_Pooling_Layer.ipynb\n",
      "16-11-2022  08.28 PM    <DIR>          anaconda\n",
      "18-11-2022  01.30 PM           282,118 Apply_Image Data Generator_Functionality_To_Train_And_Test_Set.ipynb\n",
      "18-11-2022  11.50 PM             2,037 Final_Spyder_Deploy_Code.ipynb\n",
      "18-11-2022  12.03 PM           287,241 Fit_And_Save_The_Model.ipynb\n",
      "18-11-2022  02.34 PM           289,254 Import_The_Packages_And_Load_The_Saved_Modeel.ipynb\n",
      "18-11-2022  02.14 PM           289,408 Import_The_Packages_And_Load_The_Saved_Modeel-Copy1.ipynb\n",
      "18-11-2022  10.05 AM           282,628 IntializeThe_model.ipynb\n",
      "18-11-2022  05.22 PM           289,757 Model Building.ipynb\n",
      "18-11-2022  11.44 PM           283,704 Model_building.ipynb\n",
      "18-11-2022  11.29 PM           289,752 Model_Building_And__Test_The_Data.ipynb\n",
      "22-09-2022  04.12 PM             2,433 Rocket.Chat.lnk\n",
      "18-11-2022  05.48 PM             4,811 Test The Model.ipynb\n",
      "17-11-2022  10.07 PM             9,691 Untitled.ipynb\n",
      "18-11-2022  04.13 PM             3,939 Untitled1.ipynb\n",
      "19-11-2022  12.23 AM            17,630 Untitled2.ipynb\n",
      "17-11-2022  08.59 PM             3,377 Untitled3.ipynb\n",
      "              19 File(s)      3,190,881 bytes\n",
      "               4 Dir(s)  51,626,196,992 bytes free\n"
     ]
    }
   ],
   "source": [
    "ls"
   ]
  },
  {
   "cell_type": "code",
   "execution_count": 12,
   "id": "6f14bd12",
   "metadata": {},
   "outputs": [
    {
     "data": {
      "text/plain": [
       "'C:\\\\Users\\\\nivet\\\\Desktop'"
      ]
     },
     "execution_count": 12,
     "metadata": {},
     "output_type": "execute_result"
    }
   ],
   "source": [
    "pwd"
   ]
  },
  {
   "cell_type": "code",
   "execution_count": null,
   "id": "8d4544db",
   "metadata": {},
   "outputs": [],
   "source": [
    "model.save('Dataset.h5')"
   ]
  },
  {
   "cell_type": "code",
   "execution_count": 13,
   "id": "a582ad99",
   "metadata": {},
   "outputs": [
    {
     "ename": "NameError",
     "evalue": "name 'Dataset' is not defined",
     "output_type": "error",
     "traceback": [
      "\u001b[1;31m---------------------------------------------------------------------------\u001b[0m",
      "\u001b[1;31mNameError\u001b[0m                                 Traceback (most recent call last)",
      "\u001b[1;32m~\\AppData\\Local\\Temp\\ipykernel_9084\\4067706016.py\u001b[0m in \u001b[0;36m<module>\u001b[1;34m\u001b[0m\n\u001b[1;32m----> 1\u001b[1;33m \u001b[0mDataset\u001b[0m\u001b[1;33m.\u001b[0m\u001b[0mh5\u001b[0m\u001b[1;33m\u001b[0m\u001b[1;33m\u001b[0m\u001b[0m\n\u001b[0m",
      "\u001b[1;31mNameError\u001b[0m: name 'Dataset' is not defined"
     ]
    }
   ],
   "source": [
    "Dataset.h5"
   ]
  },
  {
   "cell_type": "code",
   "execution_count": 14,
   "id": "8a7481b2",
   "metadata": {},
   "outputs": [
    {
     "name": "stdout",
     "output_type": "stream",
     "text": [
      " Volume in drive C is Windows 10\n",
      " Volume Serial Number is 98E7-6D07\n",
      "\n",
      " Directory of C:\\Users\\nivet\\Desktop\n",
      "\n",
      "19-11-2022  12.25 AM    <DIR>          .\n",
      "19-11-2022  12.25 AM    <DIR>          ..\n",
      "18-11-2022  11.55 PM    <DIR>          .ipynb_checkpoints\n",
      "13-10-2022  02.06 PM             2,216 4045 - Chrome.lnk\n",
      "18-11-2022  11.29 AM           283,727 Add_The _Flatten_Layer.ipynb\n",
      "18-11-2022  12.58 PM           283,727 Add_The _Flatten_Layer-Copy1.ipynb\n",
      "18-11-2022  10.39 AM           283,431 Add_The_Pooling_Layer.ipynb\n",
      "16-11-2022  08.28 PM    <DIR>          anaconda\n",
      "18-11-2022  01.30 PM           282,118 Apply_Image Data Generator_Functionality_To_Train_And_Test_Set.ipynb\n",
      "18-11-2022  11.50 PM             2,037 Final_Spyder_Deploy_Code.ipynb\n",
      "18-11-2022  12.03 PM           287,241 Fit_And_Save_The_Model.ipynb\n",
      "18-11-2022  02.34 PM           289,254 Import_The_Packages_And_Load_The_Saved_Modeel.ipynb\n",
      "18-11-2022  02.14 PM           289,408 Import_The_Packages_And_Load_The_Saved_Modeel-Copy1.ipynb\n",
      "18-11-2022  10.05 AM           282,628 IntializeThe_model.ipynb\n",
      "18-11-2022  05.22 PM           289,757 Model Building.ipynb\n",
      "18-11-2022  11.44 PM           283,704 Model_building.ipynb\n",
      "18-11-2022  11.29 PM           289,752 Model_Building_And__Test_The_Data.ipynb\n",
      "22-09-2022  04.12 PM             2,433 Rocket.Chat.lnk\n",
      "18-11-2022  05.48 PM             4,811 Test The Model.ipynb\n",
      "17-11-2022  10.07 PM             9,691 Untitled.ipynb\n",
      "18-11-2022  04.13 PM             3,939 Untitled1.ipynb\n",
      "19-11-2022  12.25 AM            22,661 Untitled2.ipynb\n",
      "17-11-2022  08.59 PM             3,377 Untitled3.ipynb\n",
      "              19 File(s)      3,195,912 bytes\n",
      "               4 Dir(s)  51,628,150,784 bytes free\n"
     ]
    }
   ],
   "source": [
    "ls"
   ]
  },
  {
   "cell_type": "markdown",
   "id": "3cbe937b",
   "metadata": {},
   "source": [
    "# 14.INSTALLING WATSON MACHINE LEARNING CLIENT SOFTWARE"
   ]
  },
  {
   "cell_type": "code",
   "execution_count": 16,
   "id": "8881fbd8",
   "metadata": {},
   "outputs": [
    {
     "name": "stdout",
     "output_type": "stream",
     "text": [
      "Requirement already satisfied: watson_machine_learning_client in c:\\users\\nivet\\desktop\\anaconda\\lib\\site-packages (1.0.391)\n",
      "Requirement already satisfied: tabulate in c:\\users\\nivet\\desktop\\anaconda\\lib\\site-packages (from watson_machine_learning_client) (0.8.10)\n",
      "Requirement already satisfied: tqdm in c:\\users\\nivet\\desktop\\anaconda\\lib\\site-packages (from watson_machine_learning_client) (4.64.1)\n",
      "Requirement already satisfied: lomond in c:\\users\\nivet\\desktop\\anaconda\\lib\\site-packages (from watson_machine_learning_client) (0.3.3)\n",
      "Requirement already satisfied: pandas in c:\\users\\nivet\\desktop\\anaconda\\lib\\site-packages (from watson_machine_learning_client) (1.4.4)\n",
      "Requirement already satisfied: urllib3 in c:\\users\\nivet\\desktop\\anaconda\\lib\\site-packages (from watson_machine_learning_client) (1.26.11)\n",
      "Requirement already satisfied: ibm-cos-sdk in c:\\users\\nivet\\desktop\\anaconda\\lib\\site-packages (from watson_machine_learning_client) (2.12.0)\n",
      "Requirement already satisfied: requests in c:\\users\\nivet\\desktop\\anaconda\\lib\\site-packages (from watson_machine_learning_client) (2.28.1)\n",
      "Requirement already satisfied: certifi in c:\\users\\nivet\\desktop\\anaconda\\lib\\site-packages (from watson_machine_learning_client) (2022.9.14)\n",
      "Requirement already satisfied: boto3 in c:\\users\\nivet\\desktop\\anaconda\\lib\\site-packages (from watson_machine_learning_client) (1.24.28)\n",
      "Requirement already satisfied: botocore<1.28.0,>=1.27.28 in c:\\users\\nivet\\desktop\\anaconda\\lib\\site-packages (from boto3->watson_machine_learning_client) (1.27.28)\n",
      "Requirement already satisfied: s3transfer<0.7.0,>=0.6.0 in c:\\users\\nivet\\desktop\\anaconda\\lib\\site-packages (from boto3->watson_machine_learning_client) (0.6.0)\n",
      "Requirement already satisfied: jmespath<2.0.0,>=0.7.1 in c:\\users\\nivet\\desktop\\anaconda\\lib\\site-packages (from boto3->watson_machine_learning_client) (0.10.0)\n",
      "Requirement already satisfied: ibm-cos-sdk-s3transfer==2.12.0 in c:\\users\\nivet\\desktop\\anaconda\\lib\\site-packages (from ibm-cos-sdk->watson_machine_learning_client) (2.12.0)\n",
      "Requirement already satisfied: ibm-cos-sdk-core==2.12.0 in c:\\users\\nivet\\desktop\\anaconda\\lib\\site-packages (from ibm-cos-sdk->watson_machine_learning_client) (2.12.0)\n",
      "Requirement already satisfied: python-dateutil<3.0.0,>=2.8.2 in c:\\users\\nivet\\desktop\\anaconda\\lib\\site-packages (from ibm-cos-sdk-core==2.12.0->ibm-cos-sdk->watson_machine_learning_client) (2.8.2)\n",
      "Requirement already satisfied: charset-normalizer<3,>=2 in c:\\users\\nivet\\desktop\\anaconda\\lib\\site-packages (from requests->watson_machine_learning_client) (2.0.4)\n",
      "Requirement already satisfied: idna<4,>=2.5 in c:\\users\\nivet\\desktop\\anaconda\\lib\\site-packages (from requests->watson_machine_learning_client) (3.3)\n",
      "Requirement already satisfied: six>=1.10.0 in c:\\users\\nivet\\desktop\\anaconda\\lib\\site-packages (from lomond->watson_machine_learning_client) (1.16.0)\n",
      "Requirement already satisfied: numpy>=1.18.5 in c:\\users\\nivet\\desktop\\anaconda\\lib\\site-packages (from pandas->watson_machine_learning_client) (1.21.5)\n",
      "Requirement already satisfied: pytz>=2020.1 in c:\\users\\nivet\\desktop\\anaconda\\lib\\site-packages (from pandas->watson_machine_learning_client) (2022.1)\n",
      "Requirement already satisfied: colorama in c:\\users\\nivet\\desktop\\anaconda\\lib\\site-packages (from tqdm->watson_machine_learning_client) (0.4.5)\n"
     ]
    }
   ],
   "source": [
    "#installing the machine learning repository\n",
    "!pip install watson_machine_learning_client --upgrade"
   ]
  },
  {
   "cell_type": "raw",
   "id": "10c2a9dd",
   "metadata": {},
   "source": [
    "Collecting watson_machine_learning_client\n",
    "  Downloading watson_machine_learning_client-1.0.391-py3-none-any.whl (538 kB)\n",
    "     |████████████████████████████████| 538 kB 18.5 MB/s eta 0:00:01\n",
    "Requirement already satisfied: lomond in /opt/conda/envs/Python-3.9/lib/python3.9/site-packages (from watson_machine_learning_client) (0.3.3)\n",
    "Requirement already satisfied: tqdm in /opt/conda/envs/Python-3.9/lib/python3.9/site-packages (from watson_machine_learning_client) (4.62.3)\n",
    "Requirement already satisfied: urllib3 in /opt/conda/envs/Python-3.9/lib/python3.9/site-packages (from watson_machine_learning_client) (1.26.7)\n",
    "Requirement already satisfied: boto3 in /opt/conda/envs/Python-3.9/lib/python3.9/site-packages (from watson_machine_learning_client) (1.18.21)\n",
    "Requirement already satisfied: tabulate in /opt/conda/envs/Python-3.9/lib/python3.9/site-packages (from watson_machine_learning_client) (0.8.9)\n",
    "Requirement already satisfied: certifi in /opt/conda/envs/Python-3.9/lib/python3.9/site-packages (from watson_machine_learning_client) (2022.9.24)\n",
    "Requirement already satisfied: pandas in /opt/conda/envs/Python-3.9/lib/python3.9/site-packages (from watson_machine_learning_client) (1.3.4)\n",
    "Requirement already satisfied: ibm-cos-sdk in /opt/conda/envs/Python-3.9/lib/python3.9/site-packages (from watson_machine_learning_client) (2.11.0)\n",
    "Requirement already satisfied: requests in /opt/conda/envs/Python-3.9/lib/python3.9/site-packages (from watson_machine_learning_client) (2.26.0)\n",
    "Requirement already satisfied: jmespath<1.0.0,>=0.7.1 in /opt/conda/envs/Python-3.9/lib/python3.9/site-packages (from boto3->watson_machine_learning_client) (0.10.0)\n",
    "Requirement already satisfied: botocore<1.22.0,>=1.21.21 in /opt/conda/envs/Python-3.9/lib/python3.9/site-packages (from boto3->watson_machine_learning_client) (1.21.41)\n",
    "Requirement already satisfied: s3transfer<0.6.0,>=0.5.0 in /opt/conda/envs/Python-3.9/lib/python3.9/site-packages (from boto3->watson_machine_learning_client) (0.5.0)\n",
    "Requirement already satisfied: python-dateutil<3.0.0,>=2.1 in /opt/conda/envs/Python-3.9/lib/python3.9/site-packages (from botocore<1.22.0,>=1.21.21->boto3->watson_machine_learning_client) (2.8.2)\n",
    "Requirement already satisfied: six>=1.5 in /opt/conda/envs/Python-3.9/lib/python3.9/site-packages (from python-dateutil<3.0.0,>=2.1->botocore<1.22.0,>=1.21.21->boto3->watson_machine_learning_client) (1.15.0)\n",
    "Requirement already satisfied: ibm-cos-sdk-s3transfer==2.11.0 in /opt/conda/envs/Python-3.9/lib/python3.9/site-packages (from ibm-cos-sdk->watson_machine_learning_client) (2.11.0)\n",
    "Requirement already satisfied: ibm-cos-sdk-core==2.11.0 in /opt/conda/envs/Python-3.9/lib/python3.9/site-packages (from ibm-cos-sdk->watson_machine_learning_client) (2.11.0)\n",
    "Requirement already satisfied: charset-normalizer~=2.0.0 in /opt/conda/envs/Python-3.9/lib/python3.9/site-packages (from requests->watson_machine_learning_client) (2.0.4)\n",
    "Requirement already satisfied: idna<4,>=2.5 in /opt/conda/envs/Python-3.9/lib/python3.9/site-packages (from requests->watson_machine_learning_client) (3.3)\n",
    "Requirement already satisfied: pytz>=2017.3 in /opt/conda/envs/Python-3.9/lib/python3.9/site-packages (from pandas->watson_machine_learning_client) (2021.3)\n",
    "Requirement already satisfied: numpy>=1.17.3 in /opt/conda/envs/Python-3.9/lib/python3.9/site-packages (from pandas->watson_machine_learning_client) (1.20.3)\n",
    "Installing collected packages: watson-machine-learning-client\n",
    "Successfully installed watson-machine-learning-client-1.0.391"
   ]
  },
  {
   "cell_type": "markdown",
   "id": "5b996f4c",
   "metadata": {},
   "source": [
    "# 15.IMPORTING APICLIENT FOR DEPLOYING."
   ]
  },
  {
   "cell_type": "code",
   "execution_count": null,
   "id": "3f245643",
   "metadata": {},
   "outputs": [],
   "source": [
    "from ibm_watson_machine_learning import APIClient\n",
    "url_credentials = {\n",
    "    \"url\": \"https://us-south.ml.cloud.ibm.com\",\n",
    "    #\"apikey\": \"sqLVTXSP3nnAKfzJ1rKRKCpNzS_XZ8_HXa9FRwV7BvOP\"\n",
    "    \"apikey\":  \"yVlgJh_0MVtYQmrWl9PAa6M60YXRYSkm0BXYZjlfnmrz\"\n",
    "}\n",
    "client = APIClient(url_credentials)"
   ]
  },
  {
   "cell_type": "code",
   "execution_count": null,
   "id": "a82cba2c",
   "metadata": {},
   "outputs": [],
   "source": [
    "client = APIClient(url_credentials)\n",
    "client"
   ]
  },
  {
   "cell_type": "markdown",
   "id": "c85b91fb",
   "metadata": {},
   "source": [
    "# 16.CREATING API_CLIENT SPACE ID."
   ]
  },
  {
   "cell_type": "code",
   "execution_count": null,
   "id": "66b99b08",
   "metadata": {},
   "outputs": [],
   "source": [
    "def guid_from_space_name(client, space_name):\n",
    "    space = client.spaces.get_details()\n",
    "    return(next(item for item in space['resources'] if item['entity']['name'] == space_name)['metadata']['id'])"
   ]
  },
  {
   "cell_type": "code",
   "execution_count": null,
   "id": "64ca5e73",
   "metadata": {},
   "outputs": [],
   "source": [
    "space_uid = guid_from_space_name(client, 'newspace')\n",
    "print(\"space UID = \" + space_uid)"
   ]
  },
  {
   "cell_type": "raw",
   "id": "8eedab06",
   "metadata": {},
   "source": [
    "space UID = 26031c6a-3567-437f-9ccb-d8ca0f32a42f"
   ]
  },
  {
   "cell_type": "code",
   "execution_count": 17,
   "id": "3e182bf3",
   "metadata": {},
   "outputs": [
    {
     "ename": "NameError",
     "evalue": "name 'client' is not defined",
     "output_type": "error",
     "traceback": [
      "\u001b[1;31m---------------------------------------------------------------------------\u001b[0m",
      "\u001b[1;31mNameError\u001b[0m                                 Traceback (most recent call last)",
      "\u001b[1;32m~\\AppData\\Local\\Temp\\ipykernel_9084\\2228809534.py\u001b[0m in \u001b[0;36m<module>\u001b[1;34m\u001b[0m\n\u001b[1;32m----> 1\u001b[1;33m \u001b[0mclient\u001b[0m\u001b[1;33m.\u001b[0m\u001b[0mset\u001b[0m\u001b[1;33m.\u001b[0m\u001b[0mdefault_space\u001b[0m\u001b[1;33m(\u001b[0m\u001b[0mspace_uid\u001b[0m\u001b[1;33m)\u001b[0m\u001b[1;33m\u001b[0m\u001b[1;33m\u001b[0m\u001b[0m\n\u001b[0m",
      "\u001b[1;31mNameError\u001b[0m: name 'client' is not defined"
     ]
    }
   ],
   "source": [
    "client.set.default_space(space_uid)"
   ]
  },
  {
   "cell_type": "code",
   "execution_count": null,
   "id": "285ef3da",
   "metadata": {},
   "outputs": [],
   "source": [
    "client.software_specifications.list(500)"
   ]
  },
  {
   "cell_type": "raw",
   "id": "6eea8baa",
   "metadata": {},
   "source": [
    "-------------------------------  ------------------------------------  ----\n",
    "NAME                             ASSET_ID                              TYPE\n",
    "default_py3.6                    0062b8c9-8b7d-44a0-a9b9-46c416adcbd9  base\n",
    "kernel-spark3.2-scala2.12        020d69ce-7ac1-5e68-ac1a-31189867356a  base\n",
    "pytorch-onnx_1.3-py3.7-edt       069ea134-3346-5748-b513-49120e15d288  base\n",
    "scikit-learn_0.20-py3.6          09c5a1d0-9c1e-4473-a344-eb7b665ff687  base\n",
    "spark-mllib_3.0-scala_2.12       09f4cff0-90a7-5899-b9ed-1ef348aebdee  base\n",
    "pytorch-onnx_rt22.1-py3.9        0b848dd4-e681-5599-be41-b5f6fccc6471  base\n",
    "ai-function_0.1-py3.6            0cdb0f1e-5376-4f4d-92dd-da3b69aa9bda  base\n",
    "shiny-r3.6                       0e6e79df-875e-4f24-8ae9-62dcc2148306  base\n",
    "tensorflow_2.4-py3.7-horovod     1092590a-307d-563d-9b62-4eb7d64b3f22  base\n",
    "pytorch_1.1-py3.6                10ac12d6-6b30-4ccd-8392-3e922c096a92  base\n",
    "tensorflow_1.15-py3.6-ddl        111e41b3-de2d-5422-a4d6-bf776828c4b7  base\n",
    "autoai-kb_rt22.2-py3.10          125b6d9a-5b1f-5e8d-972a-b251688ccf40  base\n",
    "runtime-22.1-py3.9               12b83a17-24d8-5082-900f-0ab31fbfd3cb  base\n",
    "scikit-learn_0.22-py3.6          154010fa-5b3b-4ac1-82af-4d5ee5abbc85  base\n",
    "default_r3.6                     1b70aec3-ab34-4b87-8aa0-a4a3c8296a36  base\n",
    "pytorch-onnx_1.3-py3.6           1bc6029a-cc97-56da-b8e0-39c3880dbbe7  base\n",
    "kernel-spark3.3-r3.6             1c9e5454-f216-59dd-a20e-474a5cdf5988  base\n",
    "pytorch-onnx_rt22.1-py3.9-edt    1d362186-7ad5-5b59-8b6c-9d0880bde37f  base\n",
    "tensorflow_2.1-py3.6             1eb25b84-d6ed-5dde-b6a5-3fbdf1665666  base\n",
    "spark-mllib_3.2                  20047f72-0a98-58c7-9ff5-a77b012eb8f5  base\n",
    "tensorflow_2.4-py3.8-horovod     217c16f6-178f-56bf-824a-b19f20564c49  base\n",
    "runtime-22.1-py3.9-cuda          26215f05-08c3-5a41-a1b0-da66306ce658  base\n",
    "do_py3.8                         295addb5-9ef9-547e-9bf4-92ae3563e720  base\n",
    "autoai-ts_3.8-py3.8              2aa0c932-798f-5ae9-abd6-15e0c2402fb5  base\n",
    "tensorflow_1.15-py3.6            2b73a275-7cbf-420b-a912-eae7f436e0bc  base\n",
    "kernel-spark3.3-py3.9            2b7961e2-e3b1-5a8c-a491-482c8368839a  base\n",
    "pytorch_1.2-py3.6                2c8ef57d-2687-4b7d-acce-01f94976dac1  base\n",
    "spark-mllib_2.3                  2e51f700-bca0-4b0d-88dc-5c6791338875  base\n",
    "pytorch-onnx_1.1-py3.6-edt       32983cea-3f32-4400-8965-dde874a8d67e  base\n",
    "spark-mllib_3.0-py37             36507ebe-8770-55ba-ab2a-eafe787600e9  base\n",
    "spark-mllib_2.4                  390d21f8-e58b-4fac-9c55-d7ceda621326  base\n",
    "autoai-ts_rt22.2-py3.10          396b2e83-0953-5b86-9a55-7ce1628a406f  base\n",
    "xgboost_0.82-py3.6               39e31acd-5f30-41dc-ae44-60233c80306e  base\n",
    "pytorch-onnx_1.2-py3.6-edt       40589d0e-7019-4e28-8daa-fb03b6f4fe12  base\n",
    "pytorch-onnx_rt22.2-py3.10       40e73f55-783a-5535-b3fa-0c8b94291431  base\n",
    "default_r36py38                  41c247d3-45f8-5a71-b065-8580229facf0  base\n",
    "autoai-ts_rt22.1-py3.9           4269d26e-07ba-5d40-8f66-2d495b0c71f7  base\n",
    "autoai-obm_3.0                   42b92e18-d9ab-567f-988a-4240ba1ed5f7  base\n",
    "pmml-3.0_4.3                     493bcb95-16f1-5bc5-bee8-81b8af80e9c7  base\n",
    "spark-mllib_2.4-r_3.6            49403dff-92e9-4c87-a3d7-a42d0021c095  base\n",
    "xgboost_0.90-py3.6               4ff8d6c2-1343-4c18-85e1-689c965304d3  base\n",
    "pytorch-onnx_1.1-py3.6           50f95b2a-bc16-43bb-bc94-b0bed208c60b  base\n",
    "autoai-ts_3.9-py3.8              52c57136-80fa-572e-8728-a5e7cbb42cde  base\n",
    "spark-mllib_2.4-scala_2.11       55a70f99-7320-4be5-9fb9-9edb5a443af5  base\n",
    "spark-mllib_3.0                  5c1b0ca2-4977-5c2e-9439-ffd44ea8ffe9  base\n",
    "autoai-obm_2.0                   5c2e37fa-80b8-5e77-840f-d912469614ee  base\n",
    "spss-modeler_18.1                5c3cad7e-507f-4b2a-a9a3-ab53a21dee8b  base\n",
    "cuda-py3.8                       5d3232bf-c86b-5df4-a2cd-7bb870a1cd4e  base\n",
    "autoai-kb_3.1-py3.7              632d4b22-10aa-5180-88f0-f52dfb6444d7  base\n",
    "pytorch-onnx_1.7-py3.8           634d3cdc-b562-5bf9-a2d4-ea90a478456b  base\n",
    "spark-mllib_2.3-r_3.6            6586b9e3-ccd6-4f92-900f-0f8cb2bd6f0c  base\n",
    "tensorflow_2.4-py3.7             65e171d7-72d1-55d9-8ebb-f813d620c9bb  base\n",
    "spss-modeler_18.2                687eddc9-028a-4117-b9dd-e57b36f1efa5  base\n",
    "pytorch-onnx_1.2-py3.6           692a6a4d-2c4d-45ff-a1ed-b167ee55469a  base\n",
    "spark-mllib_2.3-scala_2.11       7963efe5-bbec-417e-92cf-0574e21b4e8d  base\n",
    "spark-mllib_2.4-py37             7abc992b-b685-532b-a122-a396a3cdbaab  base\n",
    "caffe_1.0-py3.6                  7bb3dbe2-da6e-4145-918d-b6d84aa93b6b  base\n",
    "pytorch-onnx_1.7-py3.7           812c6631-42b7-5613-982b-02098e6c909c  base\n",
    "cuda-py3.6                       82c79ece-4d12-40e6-8787-a7b9e0f62770  base\n",
    "tensorflow_1.15-py3.6-horovod    8964680e-d5e4-5bb8-919b-8342c6c0dfd8  base\n",
    "hybrid_0.1                       8c1a58c6-62b5-4dc4-987a-df751c2756b6  base\n",
    "pytorch-onnx_1.3-py3.7           8d5d8a87-a912-54cf-81ec-3914adaa988d  base\n",
    "caffe-ibm_1.0-py3.6              8d863266-7927-4d1e-97d7-56a7f4c0a19b  base\n",
    "spss-modeler_17.1                902d0051-84bd-4af6-ab6b-8f6aa6fdeabb  base\n",
    "do_12.10                         9100fd72-8159-4eb9-8a0b-a87e12eefa36  base\n",
    "do_py3.7                         9447fa8b-2051-4d24-9eef-5acb0e3c59f8  base\n",
    "spark-mllib_3.0-r_3.6            94bb6052-c837-589d-83f1-f4142f219e32  base\n",
    "cuda-py3.7-opence                94e9652b-7f2d-59d5-ba5a-23a414ea488f  base\n",
    "nlp-py3.8                        96e60351-99d4-5a1c-9cc0-473ac1b5a864  base\n",
    "cuda-py3.7                       9a44990c-1aa1-4c7d-baf8-c4099011741c  base\n",
    "hybrid_0.2                       9b3f9040-9cee-4ead-8d7a-780600f542f7  base\n",
    "spark-mllib_3.0-py38             9f7a8fc1-4d3c-5e65-ab90-41fa8de2d418  base\n",
    "autoai-kb_3.3-py3.7              a545cca3-02df-5c61-9e88-998b09dc79af  base\n",
    "spark-mllib_3.0-py39             a6082a27-5acc-5163-b02c-6b96916eb5e0  base\n",
    "runtime-22.1-py3.9-do            a7e7dbf1-1d03-5544-994d-e5ec845ce99a  base\n",
    "default_py3.8                    ab9e1b80-f2ce-592c-a7d2-4f2344f77194  base\n",
    "tensorflow_rt22.1-py3.9          acd9c798-6974-5d2f-a657-ce06e986df4d  base\n",
    "kernel-spark3.2-py3.9            ad7033ee-794e-58cf-812e-a95f4b64b207  base\n",
    "autoai-obm_2.0 with Spark 3.0    af10f35f-69fa-5d66-9bf5-acb58434263a  base\n",
    "default_py3.7_opence             c2057dd4-f42c-5f77-a02f-72bdbd3282c9  base\n",
    "tensorflow_2.1-py3.7             c4032338-2a40-500a-beef-b01ab2667e27  base\n",
    "do_py3.7_opence                  cc8f8976-b74a-551a-bb66-6377f8d865b4  base\n",
    "spark-mllib_3.3                  d11f2434-4fc7-58b7-8a62-755da64fdaf8  base\n",
    "autoai-kb_3.0-py3.6              d139f196-e04b-5d8b-9140-9a10ca1fa91a  base\n",
    "spark-mllib_3.0-py36             d82546d5-dd78-5fbb-9131-2ec309bc56ed  base\n",
    "autoai-kb_3.4-py3.8              da9b39c3-758c-5a4f-9cfd-457dd4d8c395  base\n",
    "kernel-spark3.2-r3.6             db2fe4d6-d641-5d05-9972-73c654c60e0a  base\n",
    "autoai-kb_rt22.1-py3.9           db6afe93-665f-5910-b117-d879897404d9  base\n",
    "tensorflow_rt22.1-py3.9-horovod  dda170cc-ca67-5da7-9b7a-cf84c6987fae  base\n",
    "autoai-ts_1.0-py3.7              deef04f0-0c42-5147-9711-89f9904299db  base\n",
    "tensorflow_2.1-py3.7-horovod     e384fce5-fdd1-53f8-bc71-11326c9c635f  base\n",
    "default_py3.7                    e4429883-c883-42b6-87a8-f419d64088cd  base\n",
    "do_22.1                          e51999ba-6452-5f1f-8287-17228b88b652  base\n",
    "autoai-obm_3.2                   eae86aab-da30-5229-a6a6-1d0d4e368983  base\n",
    "tensorflow_rt22.2-py3.10         f65bd165-f057-55de-b5cb-f97cf2c0f393  base\n",
    "do_20.1                          f686cdd9-7904-5f9d-a732-01b0d6b10dc5  base\n",
    "pytorch-onnx_rt22.2-py3.10-edt   f8a05d07-e7cd-57bb-a10b-23f1d4b837ac  base\n",
    "scikit-learn_0.19-py3.6          f963fa9d-4bb7-5652-9c5d-8d9289ef6ad9  base\n",
    "tensorflow_2.4-py3.8             fe185c44-9a99-5425-986b-59bd1d2eda46  base\n",
    "-------------------------------  ------------------------------------  ----"
   ]
  },
  {
   "cell_type": "code",
   "execution_count": null,
   "id": "a94f67f2",
   "metadata": {},
   "outputs": [],
   "source": [
    "software_spec_uid = client.software_specifications.get_uid_by_name(\"tensorflow_rt22.1-py3.9\")\n",
    "software_spec_uid"
   ]
  },
  {
   "cell_type": "raw",
   "id": "2f3aa6e7",
   "metadata": {},
   "source": [
    "'acd9c798-6974-5d2f-a657-ce06e986df4d'"
   ]
  },
  {
   "cell_type": "markdown",
   "id": "0007976e",
   "metadata": {},
   "source": [
    "# 17.STORING THE MODEL_ID FOR DATASET.H5"
   ]
  },
  {
   "cell_type": "code",
   "execution_count": null,
   "id": "1fa6e434",
   "metadata": {},
   "outputs": [],
   "source": [
    "#store the model\n",
    "model_details = client.repository.store_model(model='image-Classification-model_new.tgz',meta_props={\n",
    "    client.repository.ModelMetaNames.NAME: \"CNN\",\n",
    "    client.repository.ModelMetaNames.TYPE: \"keras_2.2.4\",\n",
    "    client.repository.ModelMetaNames.SOFTWARE_SPEC_UID:software_spec_uid\n",
    "})\n",
    "model_id = client.repository.get_model_uid(model_details)"
   ]
  },
  {
   "cell_type": "raw",
   "id": "38a474a4",
   "metadata": {},
   "source": [
    "Failure during getting trained models details. (GET https://us-south.ml.cloud.ibm.com/ml/v4/trainings/image-Classification-model_new.tgz?version=2021-06-24&space_id=26031c6a-3567-437f-9ccb-d8ca0f32a42f)\n",
    "Status code: 404, body: {\"trace\":\"c329ba91cff4ca75927bb9394e755a21\",\"errors\":[{\"code\":\"training_job_run_not_found\",\"message\":\"Backend persistence error (404): GET request failed\",\"more_info\":\"http://watson-ml-api.mybluemix.net/\"}],\"status_code\":\"404\"}\n",
    "Unexpected type of 'model parameter', expected: model path / training_id, actual: 'image-Classification-model_new.tgz'.\n",
    "---------------------------------------------------------------------------\n",
    "ApiRequestFailure                         Traceback (most recent call last)\n",
    "/opt/conda/envs/Python-3.9/lib/python3.9/site-packages/ibm_watson_machine_learning/models.py in _publish_from_training(self, model_uid, meta_props, subtrainingId, feature_names, label_column_names, round_number)\n",
    "    529         try:\n",
    "--> 530             details = self._client.training.get_details(model_uid, _internal=True)\n",
    "    531 \n",
    "\n",
    "/opt/conda/envs/Python-3.9/lib/python3.9/site-packages/ibm_watson_machine_learning/training.py in get_details(self, training_uid, limit, asynchronous, get_all, training_type, state, tag_value, training_definition_id, _internal)\n",
    "    165         else:\n",
    "--> 166             details = self._get_artifact_details(url, training_uid, limit, 'trained models')\n",
    "    167 \n",
    "\n",
    "/opt/conda/envs/Python-3.9/lib/python3.9/site-packages/ibm_watson_machine_learning/wml_resource.py in _get_artifact_details(self, base_url, uid, limit, resource_name, summary, pre_defined, query_params, _async, _all)\n",
    "    225 \n",
    "--> 226             return self._handle_response(200, op_name, response_get)\n",
    "    227 \n",
    "\n",
    "/opt/conda/envs/Python-3.9/lib/python3.9/site-packages/ibm_watson_machine_learning/wml_resource.py in _handle_response(self, expected_status_code, operationName, response, json_response)\n",
    "     72         else:\n",
    "---> 73             raise ApiRequestFailure(u'Failure during {}.'.format(operationName), response)\n",
    "     74 \n",
    "\n",
    "ApiRequestFailure: Failure during getting trained models details. (GET https://us-south.ml.cloud.ibm.com/ml/v4/trainings/image-Classification-model_new.tgz?version=2021-06-24&space_id=26031c6a-3567-437f-9ccb-d8ca0f32a42f)\n",
    "Status code: 404, body: {\"trace\":\"c329ba91cff4ca75927bb9394e755a21\",\"errors\":[{\"code\":\"training_job_run_not_found\",\"message\":\"Backend persistence error (404): GET request failed\",\"more_info\":\"http://watson-ml-api.mybluemix.net/\"}],\"status_code\":\"404\"}\n",
    "\n",
    "During handling of the above exception, another exception occurred:\n",
    "\n",
    "UnexpectedType                            Traceback (most recent call last)\n",
    "/tmp/wsuser/ipykernel_2521/2273796809.py in \n",
    "      1 #store the model\n",
    "----> 2 model_details = client.repository.store_model(model='image-Classification-model_new.tgz',meta_props={\n",
    "      3     client.repository.ModelMetaNames.NAME: \"CNN\",\n",
    "      4     client.repository.ModelMetaNames.TYPE: \"keras_2.2.4\",\n",
    "      5     client.repository.ModelMetaNames.SOFTWARE_SPEC_UID:software_spec_uid\n",
    "\n",
    "/opt/conda/envs/Python-3.9/lib/python3.9/site-packages/ibm_watson_machine_learning/repository.py in store_model(self, model, meta_props, training_data, training_target, pipeline, feature_names, label_column_names, subtrainingId, round_number, experiment_metadata)\n",
    "    410             \"\"\"\n",
    "    411 \n",
    "--> 412         return self._client._models.store(model, meta_props=meta_props, training_data=training_data, training_target=training_target, pipeline=pipeline, feature_names=feature_names, label_column_names=label_column_names,subtrainingId=subtrainingId,round_number=round_number,experiment_metadata=experiment_metadata)\n",
    "    413 \n",
    "    414     @docstring_parameter({'str_type': STR_TYPE_NAME})\n",
    "\n",
    "/opt/conda/envs/Python-3.9/lib/python3.9/site-packages/ibm_watson_machine_learning/models.py in store(self, model, meta_props, training_data, training_target, pipeline, version, artifactid, feature_names, label_column_names, subtrainingId, round_number, experiment_metadata)\n",
    "   1646                                                       label_column_names=label_column_names)\n",
    "   1647             else:\n",
    "-> 1648                  saved_model = self._publish_from_training(model_uid=model, meta_props=meta_props,\n",
    "   1649                                                            subtrainingId=subtrainingId, feature_names=feature_names,\n",
    "   1650                                                            label_column_names=label_column_names, round_number=round_number)\n",
    "\n",
    "/opt/conda/envs/Python-3.9/lib/python3.9/site-packages/ibm_watson_machine_learning/models.py in _publish_from_training(self, model_uid, meta_props, subtrainingId, feature_names, label_column_names, round_number)\n",
    "    531 \n",
    "    532         except ApiRequestFailure as e:\n",
    "--> 533             raise UnexpectedType('model parameter', 'model path / training_id', model_uid)\n",
    "    534         model_type = \"\"\n",
    "    535 \n",
    "\n",
    "UnexpectedType: Unexpected type of 'model parameter', expected: model path / training_id, actual: 'image-Classification-model_new.tgz'."
   ]
  },
  {
   "cell_type": "code",
   "execution_count": null,
   "id": "d7362fc9",
   "metadata": {},
   "outputs": [],
   "source": [
    "model_details=client.repository.store_model(model=\"Dataset.tgz\",meta_props={\n",
    "client.repository.ModelMetaNames.NAME: \"CNN Model Building\",\n",
    "client.repository.ModelMetaNames.TYPE: \"tensorflow_2.7\",\n",
    "client.repository.ModelMetaNames.SOFTWARE_SPEC_UID: software_spec_uid\n",
    "})"
   ]
  },
  {
   "cell_type": "raw",
   "id": "457a252a",
   "metadata": {},
   "source": [
    "Failure during getting trained models details. (GET https://us-south.ml.cloud.ibm.com/ml/v4/trainings/Dataset.tgz?version=2021-06-24&space_id=26031c6a-3567-437f-9ccb-d8ca0f32a42f)\n",
    "Status code: 404, body: {\"trace\":\"dbe1af66b8507aae3a76a6586d1f46cd\",\"errors\":[{\"code\":\"training_job_run_not_found\",\"message\":\"Backend persistence error (404): GET request failed\",\"more_info\":\"http://watson-ml-api.mybluemix.net/\"}],\"status_code\":\"404\"}\n",
    "Unexpected type of 'model parameter', expected: model path / training_id, actual: 'Dataset.tgz'.\n",
    "---------------------------------------------------------------------------\n",
    "ApiRequestFailure                         Traceback (most recent call last)\n",
    "/opt/conda/envs/Python-3.9/lib/python3.9/site-packages/ibm_watson_machine_learning/models.py in _publish_from_training(self, model_uid, meta_props, subtrainingId, feature_names, label_column_names, round_number)\n",
    "    529         try:\n",
    "--> 530             details = self._client.training.get_details(model_uid, _internal=True)\n",
    "    531 \n",
    "\n",
    "/opt/conda/envs/Python-3.9/lib/python3.9/site-packages/ibm_watson_machine_learning/training.py in get_details(self, training_uid, limit, asynchronous, get_all, training_type, state, tag_value, training_definition_id, _internal)\n",
    "    165         else:\n",
    "--> 166             details = self._get_artifact_details(url, training_uid, limit, 'trained models')\n",
    "    167 \n",
    "\n",
    "/opt/conda/envs/Python-3.9/lib/python3.9/site-packages/ibm_watson_machine_learning/wml_resource.py in _get_artifact_details(self, base_url, uid, limit, resource_name, summary, pre_defined, query_params, _async, _all)\n",
    "    225 \n",
    "--> 226             return self._handle_response(200, op_name, response_get)\n",
    "    227 \n",
    "\n",
    "/opt/conda/envs/Python-3.9/lib/python3.9/site-packages/ibm_watson_machine_learning/wml_resource.py in _handle_response(self, expected_status_code, operationName, response, json_response)\n",
    "     72         else:\n",
    "---> 73             raise ApiRequestFailure(u'Failure during {}.'.format(operationName), response)\n",
    "     74 \n",
    "\n",
    "ApiRequestFailure: Failure during getting trained models details. (GET https://us-south.ml.cloud.ibm.com/ml/v4/trainings/Dataset.tgz?version=2021-06-24&space_id=26031c6a-3567-437f-9ccb-d8ca0f32a42f)\n",
    "Status code: 404, body: {\"trace\":\"dbe1af66b8507aae3a76a6586d1f46cd\",\"errors\":[{\"code\":\"training_job_run_not_found\",\"message\":\"Backend persistence error (404): GET request failed\",\"more_info\":\"http://watson-ml-api.mybluemix.net/\"}],\"status_code\":\"404\"}\n",
    "\n",
    "During handling of the above exception, another exception occurred:\n",
    "\n",
    "UnexpectedType                            Traceback (most recent call last)\n",
    "/tmp/wsuser/ipykernel_2521/3184001983.py in \n",
    "----> 1 model_details=client.repository.store_model(model=\"Dataset.tgz\",meta_props={\n",
    "      2 client.repository.ModelMetaNames.NAME: \"CNN Model Building\",\n",
    "      3 client.repository.ModelMetaNames.TYPE: \"tensorflow_2.7\",\n",
    "      4 client.repository.ModelMetaNames.SOFTWARE_SPEC_UID: software_spec_uid\n",
    "      5 })\n",
    "\n",
    "/opt/conda/envs/Python-3.9/lib/python3.9/site-packages/ibm_watson_machine_learning/repository.py in store_model(self, model, meta_props, training_data, training_target, pipeline, feature_names, label_column_names, subtrainingId, round_number, experiment_metadata)\n",
    "    410             \"\"\"\n",
    "    411 \n",
    "--> 412         return self._client._models.store(model, meta_props=meta_props, training_data=training_data, training_target=training_target, pipeline=pipeline, feature_names=feature_names, label_column_names=label_column_names,subtrainingId=subtrainingId,round_number=round_number,experiment_metadata=experiment_metadata)\n",
    "    413 \n",
    "    414     @docstring_parameter({'str_type': STR_TYPE_NAME})\n",
    "\n",
    "/opt/conda/envs/Python-3.9/lib/python3.9/site-packages/ibm_watson_machine_learning/models.py in store(self, model, meta_props, training_data, training_target, pipeline, version, artifactid, feature_names, label_column_names, subtrainingId, round_number, experiment_metadata)\n",
    "   1646                                                       label_column_names=label_column_names)\n",
    "   1647             else:\n",
    "-> 1648                  saved_model = self._publish_from_training(model_uid=model, meta_props=meta_props,\n",
    "   1649                                                            subtrainingId=subtrainingId, feature_names=feature_names,\n",
    "   1650                                                            label_column_names=label_column_names, round_number=round_number)\n",
    "\n",
    "/opt/conda/envs/Python-3.9/lib/python3.9/site-packages/ibm_watson_machine_learning/models.py in _publish_from_training(self, model_uid, meta_props, subtrainingId, feature_names, label_column_names, round_number)\n",
    "    531 \n",
    "    532         except ApiRequestFailure as e:\n",
    "--> 533             raise UnexpectedType('model parameter', 'model path / training_id', model_uid)\n",
    "    534         model_type = \"\"\n",
    "    535 \n",
    "\n",
    "UnexpectedType: Unexpected type of 'model parameter', expected: model path / training_id, actual: 'Dataset.tgz'."
   ]
  },
  {
   "cell_type": "code",
   "execution_count": 21,
   "id": "6b444fdb",
   "metadata": {},
   "outputs": [
    {
     "ename": "NameError",
     "evalue": "name 'model_id' is not defined",
     "output_type": "error",
     "traceback": [
      "\u001b[1;31m---------------------------------------------------------------------------\u001b[0m",
      "\u001b[1;31mNameError\u001b[0m                                 Traceback (most recent call last)",
      "\u001b[1;32m~\\AppData\\Local\\Temp\\ipykernel_9084\\2456339824.py\u001b[0m in \u001b[0;36m<module>\u001b[1;34m\u001b[0m\n\u001b[1;32m----> 1\u001b[1;33m \u001b[0mmodel_id\u001b[0m\u001b[1;33m\u001b[0m\u001b[1;33m\u001b[0m\u001b[0m\n\u001b[0m",
      "\u001b[1;31mNameError\u001b[0m: name 'model_id' is not defined"
     ]
    }
   ],
   "source": [
    "model_id"
   ]
  },
  {
   "cell_type": "markdown",
   "id": "7b76344a",
   "metadata": {},
   "source": [
    "# 18.DOWNLOADING THE TAR FILE ON CLIENT REPOSITORY"
   ]
  },
  {
   "cell_type": "code",
   "execution_count": null,
   "id": "6b602332",
   "metadata": {},
   "outputs": [],
   "source": [
    "client.repository.download(model_id, 'my_model.tar.gz')"
   ]
  },
  {
   "cell_type": "markdown",
   "id": "99c26920",
   "metadata": {},
   "source": [
    "# 19.TEST THE MODEL"
   ]
  },
  {
   "cell_type": "code",
   "execution_count": null,
   "id": "26fbafb4",
   "metadata": {},
   "outputs": [],
   "source": [
    "import numpy as np\n",
    "from tensorflow.keras.models import load_model\n",
    "from keras.preprocessing import image"
   ]
  },
  {
   "cell_type": "markdown",
   "id": "f18d8ad5",
   "metadata": {},
   "source": [
    "# 20.LOADING THE DATASET"
   ]
  },
  {
   "cell_type": "code",
   "execution_count": null,
   "id": "68b7ff19",
   "metadata": {},
   "outputs": [],
   "source": [
    "#Load the model\n",
    "model=load_model('Dataset.h5')"
   ]
  },
  {
   "cell_type": "markdown",
   "id": "36e727eb",
   "metadata": {},
   "source": [
    "# 21.ADDING STREAMING_BODY FOR TEST IMAGE."
   ]
  },
  {
   "cell_type": "markdown",
   "id": "12da3a4e",
   "metadata": {},
   "source": [
    "# 22.TESTING ON SEVERAL TESTING IMAGES"
   ]
  },
  {
   "cell_type": "code",
   "execution_count": null,
   "id": "5d9f934d",
   "metadata": {},
   "outputs": [],
   "source": [
    "import os, types\n",
    "import pandas as pd\n",
    "from botocore.client import Config\n",
    "import ibm_boto3\n",
    "\n",
    "def __iter__(self): return 0\n",
    "\n",
    "# @hidden_cell\n",
    "# The following code accesses a file in your IBM Cloud Object Storage. It includes your credentials.\n",
    "# You might want to remove those credentials before you share the notebook.\n",
    "cos_client = ibm_boto3.client(service_name='s3',\n",
    "    ibm_api_key_id='IMzFuAWRpYPnwh2XocJvGqTbHiPAMNnnEcIBBt8bQRGq',\n",
    "    ibm_auth_endpoint=\"https://iam.cloud.ibm.com/oidc/token\",\n",
    "    config=Config(signature_version='oauth'),\n",
    "    endpoint_url='https://s3.private.us.cloud-object-storage.appdomain.cloud')\n",
    "\n",
    "bucket = 'realtimecommunication-donotdelete-pr-fx3wrumk8qzbvv'\n",
    "object_key = '11.png'\n",
    "\n",
    "streaming_body_8 = cos_client.get_object(Bucket=bucket, Key=object_key)['Body']\n",
    "\n",
    "# Your data file was loaded into a botocore.response.StreamingBody object.\n",
    "# Please read the documentation of ibm_boto3 and pandas to learn more about the possibilities to load the data.\n",
    "# ibm_boto3 documentation: https://ibm.github.io/ibm-cos-sdk-python/\n",
    "# pandas documentation: http://pandas.pydata.org/"
   ]
  },
  {
   "cell_type": "code",
   "execution_count": 22,
   "id": "380a1b5d",
   "metadata": {},
   "outputs": [
    {
     "name": "stdout",
     "output_type": "stream",
     "text": [
      " Volume in drive C is Windows 10\n",
      " Volume Serial Number is 98E7-6D07\n",
      "\n",
      " Directory of C:\\Users\\nivet\\Desktop\n",
      "\n",
      "19-11-2022  12.39 AM    <DIR>          .\n",
      "19-11-2022  12.39 AM    <DIR>          ..\n",
      "18-11-2022  11.55 PM    <DIR>          .ipynb_checkpoints\n",
      "13-10-2022  02.06 PM             2,216 4045 - Chrome.lnk\n",
      "18-11-2022  11.29 AM           283,727 Add_The _Flatten_Layer.ipynb\n",
      "18-11-2022  12.58 PM           283,727 Add_The _Flatten_Layer-Copy1.ipynb\n",
      "18-11-2022  10.39 AM           283,431 Add_The_Pooling_Layer.ipynb\n",
      "16-11-2022  08.28 PM    <DIR>          anaconda\n",
      "18-11-2022  01.30 PM           282,118 Apply_Image Data Generator_Functionality_To_Train_And_Test_Set.ipynb\n",
      "18-11-2022  11.50 PM             2,037 Final_Spyder_Deploy_Code.ipynb\n",
      "18-11-2022  12.03 PM           287,241 Fit_And_Save_The_Model.ipynb\n",
      "18-11-2022  02.34 PM           289,254 Import_The_Packages_And_Load_The_Saved_Modeel.ipynb\n",
      "18-11-2022  02.14 PM           289,408 Import_The_Packages_And_Load_The_Saved_Modeel-Copy1.ipynb\n",
      "18-11-2022  10.05 AM           282,628 IntializeThe_model.ipynb\n",
      "18-11-2022  05.22 PM           289,757 Model Building.ipynb\n",
      "18-11-2022  11.44 PM           283,704 Model_building.ipynb\n",
      "18-11-2022  11.29 PM           289,752 Model_Building_And__Test_The_Data.ipynb\n",
      "22-09-2022  04.12 PM             2,433 Rocket.Chat.lnk\n",
      "18-11-2022  05.48 PM             4,811 Test The Model.ipynb\n",
      "17-11-2022  10.07 PM             9,691 Untitled.ipynb\n",
      "18-11-2022  04.13 PM             3,939 Untitled1.ipynb\n",
      "19-11-2022  12.39 AM            61,225 Untitled2.ipynb\n",
      "17-11-2022  08.59 PM             3,377 Untitled3.ipynb\n",
      "              19 File(s)      3,234,476 bytes\n",
      "               4 Dir(s)  51,612,176,384 bytes free\n"
     ]
    }
   ],
   "source": [
    "ls"
   ]
  },
  {
   "cell_type": "code",
   "execution_count": 23,
   "id": "5f9b8aff",
   "metadata": {},
   "outputs": [
    {
     "data": {
      "text/plain": [
       "'C:\\\\Users\\\\nivet\\\\Desktop'"
      ]
     },
     "execution_count": 23,
     "metadata": {},
     "output_type": "execute_result"
    }
   ],
   "source": [
    "pwd"
   ]
  },
  {
   "cell_type": "code",
   "execution_count": 24,
   "id": "65202f5a",
   "metadata": {},
   "outputs": [
    {
     "name": "stdout",
     "output_type": "stream",
     "text": [
      "[WinError 53] The network path was not found: \"\\\\\\\\'C:\\\\\\\\Users\\\\\\\\nivet\\\\\\\\Desktop'Dataset\\\\test_set\\\\\"\n",
      "C:\\Users\\nivet\\Desktop\n"
     ]
    }
   ],
   "source": [
    "cd \\\\'C:\\\\Users\\\\nivet\\\\Desktop'Dataset\\test_set\\"
   ]
  },
  {
   "cell_type": "code",
   "execution_count": 25,
   "id": "8f7fd0a6",
   "metadata": {},
   "outputs": [
    {
     "name": "stdout",
     "output_type": "stream",
     "text": [
      " Volume in drive C is Windows 10\n",
      " Volume Serial Number is 98E7-6D07\n",
      "\n",
      " Directory of C:\\Users\\nivet\\Desktop\n",
      "\n",
      "19-11-2022  12.41 AM    <DIR>          .\n",
      "19-11-2022  12.41 AM    <DIR>          ..\n",
      "18-11-2022  11.55 PM    <DIR>          .ipynb_checkpoints\n",
      "13-10-2022  02.06 PM             2,216 4045 - Chrome.lnk\n",
      "18-11-2022  11.29 AM           283,727 Add_The _Flatten_Layer.ipynb\n",
      "18-11-2022  12.58 PM           283,727 Add_The _Flatten_Layer-Copy1.ipynb\n",
      "18-11-2022  10.39 AM           283,431 Add_The_Pooling_Layer.ipynb\n",
      "16-11-2022  08.28 PM    <DIR>          anaconda\n",
      "18-11-2022  01.30 PM           282,118 Apply_Image Data Generator_Functionality_To_Train_And_Test_Set.ipynb\n",
      "18-11-2022  11.50 PM             2,037 Final_Spyder_Deploy_Code.ipynb\n",
      "18-11-2022  12.03 PM           287,241 Fit_And_Save_The_Model.ipynb\n",
      "18-11-2022  02.34 PM           289,254 Import_The_Packages_And_Load_The_Saved_Modeel.ipynb\n",
      "18-11-2022  02.14 PM           289,408 Import_The_Packages_And_Load_The_Saved_Modeel-Copy1.ipynb\n",
      "18-11-2022  10.05 AM           282,628 IntializeThe_model.ipynb\n",
      "18-11-2022  05.22 PM           289,757 Model Building.ipynb\n",
      "18-11-2022  11.44 PM           283,704 Model_building.ipynb\n",
      "18-11-2022  11.29 PM           289,752 Model_Building_And__Test_The_Data.ipynb\n",
      "22-09-2022  04.12 PM             2,433 Rocket.Chat.lnk\n",
      "18-11-2022  05.48 PM             4,811 Test The Model.ipynb\n",
      "17-11-2022  10.07 PM             9,691 Untitled.ipynb\n",
      "18-11-2022  04.13 PM             3,939 Untitled1.ipynb\n",
      "19-11-2022  12.41 AM            65,486 Untitled2.ipynb\n",
      "17-11-2022  08.59 PM             3,377 Untitled3.ipynb\n",
      "              19 File(s)      3,238,737 bytes\n",
      "               4 Dir(s)  51,613,642,752 bytes free\n"
     ]
    }
   ],
   "source": [
    "ls"
   ]
  },
  {
   "cell_type": "code",
   "execution_count": null,
   "id": "8f09210d",
   "metadata": {},
   "outputs": [],
   "source": [
    "ls"
   ]
  },
  {
   "cell_type": "markdown",
   "id": "85b33231",
   "metadata": {},
   "source": [
    "100.png  126.png  151.png  177.png  201.png  227.png  26.png  51.png  77.png\n",
    "101.png  127.png  152.png  178.png  202.png  228.png  27.png  52.png  78.png\n",
    "102.png  128.png  153.png  179.png  203.png  229.png  28.png  53.png  79.png\n",
    "103.png  129.png  154.png  17.png   204.png  22.png   29.png  54.png  7.png\n",
    "104.png  12.png   155.png  180.png  205.png  230.png  2.png   55.png  80.png\n",
    "105.png  130.png  156.png  181.png  206.png  231.png  30.png  56.png  81.png\n",
    "106.png  131.png  157.png  182.png  207.png  232.png  31.png  57.png  82.png\n",
    "107.png  132.png  158.png  183.png  208.png  233.png  32.png  58.png  83.png\n",
    "108.png  133.png  159.png  184.png  209.png  234.png  33.png  59.png  84.png\n",
    "109.png  134.png  15.png   185.png  20.png   235.png  34.png  5.png   85.png\n",
    "10.png   135.png  160.png  186.png  210.png  236.png  35.png  60.png  86.png\n",
    "110.png  136.png  161.png  187.png  211.png  237.png  36.png  61.png  87.png\n",
    "111.png  137.png  162.png  188.png  212.png  238.png  37.png  62.png  88.png\n",
    "112.png  138.png  163.png  189.png  213.png  239.png  38.png  63.png  89.png\n",
    "113.png  139.png  164.png  18.png   214.png  23.png   39.png  64.png  8.png\n",
    "114.png  13.png   165.png  190.png  215.png  240.png  3.png   65.png  90.png\n",
    "115.png  140.png  166.png  191.png  216.png  241.png  40.png  66.png  91.png\n",
    "116.png  141.png  167.png  192.png  217.png  242.png  41.png  67.png  92.png\n",
    "117.png  142.png  168.png  193.png  218.png  243.png  42.png  68.png  93.png\n",
    "118.png  143.png  169.png  194.png  219.png  244.png  43.png  69.png  94.png\n",
    "119.png  144.png  16.png   195.png  21.png   245.png  44.png  6.png   95.png\n",
    "11.png   145.png  170.png  196.png  220.png  246.png  45.png  70.png  96.png\n",
    "120.png  146.png  171.png  197.png  221.png  247.png  46.png  71.png  97.png\n",
    "121.png  147.png  172.png  198.png  222.png  248.png  47.png  72.png  98.png\n",
    "122.png  148.png  173.png  199.png  223.png  249.png  48.png  73.png  99.png\n",
    "123.png  149.png  174.png  19.png   224.png  24.png   49.png  74.png  9.png\n",
    "124.png  14.png   175.png  1.png    225.png  250.png  4.png   75.png\n",
    "125.png  150.png  176.png  200.png  226.png  25.png   50.png  76.png"
   ]
  },
  {
   "cell_type": "code",
   "execution_count": null,
   "id": "9bb5bba3",
   "metadata": {},
   "outputs": [],
   "source": [
    "x"
   ]
  },
  {
   "cell_type": "raw",
   "id": "431995da",
   "metadata": {},
   "source": [
    "array([[[0., 0., 0.],\n",
    "        [0., 0., 0.],\n",
    "        [0., 0., 0.],\n",
    "        ...,\n",
    "        [0., 0., 0.],\n",
    "        [0., 0., 0.],\n",
    "        [0., 0., 0.]],\n",
    "\n",
    "       [[0., 0., 0.],\n",
    "        [0., 0., 0.],\n",
    "        [0., 0., 0.],\n",
    "        ...,\n",
    "        [0., 0., 0.],\n",
    "        [0., 0., 0.],\n",
    "        [0., 0., 0.]],\n",
    "\n",
    "       [[0., 0., 0.],\n",
    "        [0., 0., 0.],\n",
    "        [0., 0., 0.],\n",
    "        ...,\n",
    "        [0., 0., 0.],\n",
    "        [0., 0., 0.],\n",
    "        [0., 0., 0.]],\n",
    "\n",
    "       ...,\n",
    "\n",
    "       [[0., 0., 0.],\n",
    "        [0., 0., 0.],\n",
    "        [0., 0., 0.],\n",
    "        ...,\n",
    "        [0., 0., 0.],\n",
    "        [0., 0., 0.],\n",
    "        [0., 0., 0.]],\n",
    "\n",
    "       [[0., 0., 0.],\n",
    "        [0., 0., 0.],\n",
    "        [0., 0., 0.],\n",
    "        ...,\n",
    "        [0., 0., 0.],\n",
    "        [0., 0., 0.],\n",
    "        [0., 0., 0.]],\n",
    "\n",
    "       [[0., 0., 0.],\n",
    "        [0., 0., 0.],\n",
    "        [0., 0., 0.],\n",
    "        ...,\n",
    "        [0., 0., 0.],\n",
    "        [0., 0., 0.],\n",
    "        [0., 0., 0.]]], dtype=float32)"
   ]
  },
  {
   "cell_type": "code",
   "execution_count": 27,
   "id": "78da7b33",
   "metadata": {},
   "outputs": [
    {
     "name": "stderr",
     "output_type": "stream",
     "text": [
      "Using TensorFlow backend.\n"
     ]
    },
    {
     "data": {
      "text/plain": [
       "'2.10.1'"
      ]
     },
     "execution_count": 27,
     "metadata": {},
     "output_type": "execute_result"
    }
   ],
   "source": [
    "import tensorflow as tf\n",
    "tf .__version__"
   ]
  },
  {
   "cell_type": "markdown",
   "id": "84d8ba88",
   "metadata": {},
   "source": [
    "# 23.IBM DEPLOYMENT"
   ]
  },
  {
   "cell_type": "code",
   "execution_count": null,
   "id": "86e4b4f7",
   "metadata": {},
   "outputs": [],
   "source": [
    "!pip install watson-machine-learning-client  "
   ]
  },
  {
   "cell_type": "code",
   "execution_count": null,
   "id": "3dd5c7fd",
   "metadata": {},
   "outputs": [],
   "source": [
    "from ibm_watson_machine learning import APIClient\n",
    "wml_credentials={\n",
    "\"url\":\"https://us-south.ml.cloud.ibm.com\",\n",
    "\"apikey\":\"x91CJTUTrrIfLvrXsKf8yLyI1KHb3JV0Y7Qrwy1zilb2\"\n",
    "}\n",
    "client=APIClient(wml_credentials)"
   ]
  },
  {
   "cell_type": "markdown",
   "id": "fdb20a63",
   "metadata": {},
   "source": [
    "# CLIENT"
   ]
  },
  {
   "cell_type": "code",
   "execution_count": null,
   "id": "49b24e33",
   "metadata": {},
   "outputs": [],
   "source": [
    "def guid_space_name(client,animal_deploy):\n",
    "space-client.spaces.get_details()\n",
    "return(next(item for item in space[' resources'] if iten['entity']['name']= animal_deploy)[\"metadata']['id'])"
   ]
  },
  {
   "cell_type": "code",
   "execution_count": null,
   "id": "923f9589",
   "metadata": {},
   "outputs": [],
   "source": [
    "space_uid-guid_space_name(client,'animal_deploy\")\n",
    "print(\"Space UID \"+space_uid)"
   ]
  },
  {
   "cell_type": "code",
   "execution_count": null,
   "id": "380d28af",
   "metadata": {},
   "outputs": [],
   "source": [
    "client.set.default_space(space_uid)"
   ]
  },
  {
   "cell_type": "code",
   "execution_count": null,
   "id": "5853a2a8",
   "metadata": {},
   "outputs": [],
   "source": [
    "client,software specifications.list(200)"
   ]
  },
  {
   "cell_type": "code",
   "execution_count": null,
   "id": "0713af9e",
   "metadata": {},
   "outputs": [],
   "source": [
    "software_space_uid=client.software_specifications.get_uid_by_name('tensorflow_rt22.1-py3.9¹)"
   ]
  },
  {
   "cell_type": "code",
   "execution_count": null,
   "id": "7f5e5306",
   "metadata": {},
   "outputs": [],
   "source": [
    "software_space_uid"
   ]
  },
  {
   "cell_type": "code",
   "execution_count": null,
   "id": "49f9beb5",
   "metadata": {},
   "outputs": [],
   "source": []
  }
 ],
 "metadata": {
  "kernelspec": {
   "display_name": "Python 3 (ipykernel)",
   "language": "python",
   "name": "python3"
  },
  "language_info": {
   "codemirror_mode": {
    "name": "ipython",
    "version": 3
   },
   "file_extension": ".py",
   "mimetype": "text/x-python",
   "name": "python",
   "nbconvert_exporter": "python",
   "pygments_lexer": "ipython3",
   "version": "3.9.13"
  }
 },
 "nbformat": 4,
 "nbformat_minor": 5
}
