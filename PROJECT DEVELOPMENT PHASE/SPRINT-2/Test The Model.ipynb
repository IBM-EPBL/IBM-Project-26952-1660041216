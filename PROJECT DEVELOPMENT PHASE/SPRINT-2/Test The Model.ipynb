{
 "cells": [
  {
   "cell_type": "markdown",
   "id": "e94b7a4e",
   "metadata": {},
   "source": [
    "# Project Tittle: Real-time Communication System Powered by AI for Specially Abled"
   ]
  },
  {
   "cell_type": "markdown",
   "id": "48f14d9f",
   "metadata": {},
   "source": [
    "# Team ID     : PNT2022TMID45340"
   ]
  },
  {
   "cell_type": "markdown",
   "id": "716157f5",
   "metadata": {},
   "source": [
    "# TEST THE MODEL"
   ]
  },
  {
   "cell_type": "code",
   "execution_count": null,
   "id": "c3d9f88c",
   "metadata": {},
   "outputs": [],
   "source": [
    "!unzip '/content/drive/MyDrive/IBMPROJECT/conversation engine for deaf and dumb.zip'"
   ]
  },
  {
   "cell_type": "code",
   "execution_count": null,
   "id": "b1dfd1c1",
   "metadata": {},
   "outputs": [],
   "source": [
    "from tensorflow.keras.models import load_model\n",
    "from tensorflow.keras.preprocessing import image\n",
    "import numpy as np\n",
    "import cv2"
   ]
  },
  {
   "cell_type": "code",
   "execution_count": null,
   "id": "9b650319",
   "metadata": {},
   "outputs": [],
   "source": [
    "model = load_model('/content/Real_time.h5')"
   ]
  },
  {
   "cell_type": "code",
   "execution_count": 1,
   "id": "3a874b97",
   "metadata": {},
   "outputs": [
    {
     "ename": "NameError",
     "evalue": "name 'image' is not defined",
     "output_type": "error",
     "traceback": [
      "\u001b[1;31m---------------------------------------------------------------------------\u001b[0m",
      "\u001b[1;31mNameError\u001b[0m                                 Traceback (most recent call last)",
      "\u001b[1;32m~\\AppData\\Local\\Temp\\ipykernel_1128\\2573957791.py\u001b[0m in \u001b[0;36m<module>\u001b[1;34m\u001b[0m\n\u001b[1;32m----> 1\u001b[1;33m \u001b[0mimg\u001b[0m \u001b[1;33m=\u001b[0m \u001b[0mimage\u001b[0m\u001b[1;33m.\u001b[0m\u001b[0mload_img\u001b[0m\u001b[1;33m(\u001b[0m\u001b[1;34m'/content/Dataset/test_set/H/107.png'\u001b[0m\u001b[1;33m,\u001b[0m\u001b[0mtarget_size\u001b[0m \u001b[1;33m=\u001b[0m \u001b[1;33m(\u001b[0m\u001b[1;36m100\u001b[0m\u001b[1;33m,\u001b[0m\u001b[1;36m100\u001b[0m\u001b[1;33m)\u001b[0m\u001b[1;33m)\u001b[0m\u001b[1;33m\u001b[0m\u001b[1;33m\u001b[0m\u001b[0m\n\u001b[0m\u001b[0;32m      2\u001b[0m \u001b[0mimg\u001b[0m\u001b[1;33m\u001b[0m\u001b[1;33m\u001b[0m\u001b[0m\n",
      "\u001b[1;31mNameError\u001b[0m: name 'image' is not defined"
     ]
    }
   ],
   "source": [
    "img = image.load_img('/content/Dataset/test_set/H/107.png',target_size = (100,100))\n",
    "img"
   ]
  },
  {
   "cell_type": "markdown",
   "id": "22ee46e1",
   "metadata": {},
   "source": [
    "# 🧤"
   ]
  },
  {
   "cell_type": "code",
   "execution_count": null,
   "id": "e43d81eb",
   "metadata": {},
   "outputs": [],
   "source": [
    "from skimage.transform import resize\n",
    "def detect(frame):\n",
    "    img=image.img_to_array(frame)\n",
    "    img = resize(img,(64,64,1))\n",
    "    img = np.expand_dims(img,axis=0)\n",
    "    pred=np.argmax(model.predict(img))\n",
    "    op=['A','B','C','D','E','F','G','H','I']\n",
    "    print(\"THE PREDICTED LETTER IS \",op[pred])"
   ]
  },
  {
   "cell_type": "code",
   "execution_count": null,
   "id": "324f9fa6",
   "metadata": {},
   "outputs": [],
   "source": [
    "img=image.load_img(\"/content/Dataset/test_set/H/107.png\")\n",
    "detect(img)"
   ]
  },
  {
   "cell_type": "markdown",
   "id": "5d6627bc",
   "metadata": {},
   "source": [
    "###### 1/1 [==============================] - 0s 28ms/step\n",
    "THE PREDICTED LETTER IS  H"
   ]
  },
  {
   "cell_type": "code",
   "execution_count": null,
   "id": "2da9a6f4",
   "metadata": {},
   "outputs": [],
   "source": [
    "img = image.load_img('/content/Dataset/test_set/A/110.png')\n",
    "pred=detect(img)"
   ]
  },
  {
   "cell_type": "raw",
   "id": "feaa31bb",
   "metadata": {},
   "source": [
    "1/1 [==============================] - 0s 26ms/step\n",
    "THE PREDICTED LETTER IS  A"
   ]
  },
  {
   "cell_type": "code",
   "execution_count": null,
   "id": "46bf46b1",
   "metadata": {},
   "outputs": [],
   "source": [
    "img=image.load_img('/content/Dataset/test_set/E/111.png')\n",
    "detect(img)"
   ]
  },
  {
   "cell_type": "code",
   "execution_count": null,
   "id": "7472e4b1",
   "metadata": {},
   "outputs": [],
   "source": [
    "1/1 [==============================] - 0s 30ms/step\n",
    "THE PREDICTED LETTER IS  E"
   ]
  }
 ],
 "metadata": {
  "kernelspec": {
   "display_name": "Python 3 (ipykernel)",
   "language": "python",
   "name": "python3"
  },
  "language_info": {
   "codemirror_mode": {
    "name": "ipython",
    "version": 3
   },
   "file_extension": ".py",
   "mimetype": "text/x-python",
   "name": "python",
   "nbconvert_exporter": "python",
   "pygments_lexer": "ipython3",
   "version": "3.9.13"
  }
 },
 "nbformat": 4,
 "nbformat_minor": 5
}
